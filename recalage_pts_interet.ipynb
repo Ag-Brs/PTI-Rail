{
 "cells": [
  {
   "cell_type": "code",
   "execution_count": 1,
   "id": "f00ecff1-97e0-46ee-9bff-8ab91bfce842",
   "metadata": {},
   "outputs": [],
   "source": [
    "import cv2\n",
    "import numpy as np\n",
    "import sys\n",
    "from PyQt5.QtWidgets import QApplication, QLabel, QVBoxLayout, QWidget\n",
    "from PyQt5.QtCore import Qt, QTimer"
   ]
  },
  {
   "cell_type": "code",
   "execution_count": 2,
   "id": "e8c2126d-5ed3-4316-8562-a95de8604f35",
   "metadata": {},
   "outputs": [],
   "source": [
    "class ImageDisplay(QWidget):\n",
    "    def __init__(self, image):\n",
    "        super().__init__()\n",
    "\n",
    "        self.label = QLabel()\n",
    "        self.label.setAlignment(Qt.AlignCenter)\n",
    "        self.label.setPixmap(self.get_pixmap(image))\n",
    "\n",
    "        layout = QVBoxLayout()\n",
    "        layout.addWidget(self.label)\n",
    "        self.setLayout(layout)\n",
    "\n",
    "    def get_pixmap(self, image):\n",
    "        height, width, channel = image.shape\n",
    "        bytes_per_line = 3 * width\n",
    "        q_image = QImage(image.data, width, height, bytes_per_line, QImage.Format_RGB888)\n",
    "        return QPixmap.fromImage(q_image)"
   ]
  },
  {
   "cell_type": "code",
   "execution_count": 3,
   "id": "7e720e5a-6988-4b06-8064-ac00654cd831",
   "metadata": {},
   "outputs": [],
   "source": [
    "def main():\n",
    "    try:\n",
    "        # Charger les deux images que vous souhaitez recalibrer\n",
    "        image1 = cv2.imread('20230323_191223_BRS_L_UP_11.369_00.png.jpg', cv2.IMREAD_GRAYSCALE)\n",
    "        image2 = cv2.imread('20230406_060421_BRS_L_UP_11.369_00.png.jpg', cv2.IMREAD_GRAYSCALE)\n",
    "\n",
    "        if image1 is None or image2 is None:\n",
    "            print(\"Erreur de chargement d'image. Vérifiez les chemins d'accès.\")\n",
    "            sys.exit(1)\n",
    "\n",
    "    except Exception as e:\n",
    "        print(f\"Une erreur s'est produite : {e}\")\n",
    "        sys.exit(1)"
   ]
  },
  {
   "cell_type": "code",
   "execution_count": 4,
   "id": "56e36d18-5b35-4ee1-89b4-326d7f308c3c",
   "metadata": {},
   "outputs": [
    {
     "ename": "IndentationError",
     "evalue": "expected an indented block (3081959590.py, line 34)",
     "output_type": "error",
     "traceback": [
      "\u001b[0;36m  Cell \u001b[0;32mIn[4], line 34\u001b[0;36m\u001b[0m\n\u001b[0;31m    main()\u001b[0m\n\u001b[0m    ^\u001b[0m\n\u001b[0;31mIndentationError\u001b[0m\u001b[0;31m:\u001b[0m expected an indented block\n"
     ]
    }
   ],
   "source": [
    "    # Réduire le nombre de points d'intérêt\n",
    "    orb = cv2.ORB_create(nfeatures=500)\n",
    "    keypoints1, descriptors1 = orb.detectAndCompute(image1, None)\n",
    "    keypoints2, descriptors2 = orb.detectAndCompute(image2, None)\n",
    "\n",
    "    # Réduire le nombre de correspondances\n",
    "    num_good_matches = 50\n",
    "    bf = cv2.BFMatcher(cv2.NORM_HAMMING, crossCheck=True)\n",
    "    matches = bf.match(descriptors1, descriptors2)\n",
    "    matches = sorted(matches, key=lambda x: x.distance)[:num_good_matches]\n",
    "\n",
    "    # Extraire les points correspondants des deux images\n",
    "    src_pts = np.float32([keypoints1[m.queryIdx].pt for m in matches])\n",
    "    dst_pts = np.float32([keypoints2[m.trainIdx].pt for m in matches])\n",
    "\n",
    "    if len(src_pts) < 4 or len(dst_pts) < 4:\n",
    "        print(\"Pas assez de points pour estimer la transformation.\")\n",
    "        sys.exit(1)\n",
    "    else:\n",
    "        # Estimation de la transformation\n",
    "        transformation_matrix, mask = cv2.findHomography(src_pts, dst_pts, cv2.RANSAC, 5.0)\n",
    "\n",
    "        # Appliquer la transformation à l'image 1 pour la recalibrer sur l'image 2\n",
    "        height, width = image2.shape\n",
    "        aligned_image = cv2.warpPerspective(image1, transformation_matrix, (width, height))\n",
    "\n",
    "        # Afficher les images originales et recalées avec PyQt\n",
    "        app = QApplication(sys.argv)\n",
    "        display_widget = ImageDisplay(aligned_image)\n",
    "        display_widget.show()\n",
    "        sys.exit(app.exec_())\n",
    "\n",
    "if __name__ == \"__main__\":\n",
    "    main()"
   ]
  },
  {
   "cell_type": "code",
   "execution_count": null,
   "id": "4e1eead7-6de2-4c47-a5e4-c9360462d133",
   "metadata": {},
   "outputs": [],
   "source": []
  },
  {
   "cell_type": "code",
   "execution_count": null,
   "id": "d1e66808-0c3f-4d3e-a6e7-3d7b05bbddf3",
   "metadata": {},
   "outputs": [],
   "source": []
  }
 ],
 "metadata": {
  "kernelspec": {
   "display_name": "Python 3 (ipykernel)",
   "language": "python",
   "name": "python3"
  },
  "language_info": {
   "codemirror_mode": {
    "name": "ipython",
    "version": 3
   },
   "file_extension": ".py",
   "mimetype": "text/x-python",
   "name": "python",
   "nbconvert_exporter": "python",
   "pygments_lexer": "ipython3",
   "version": "3.9.12"
  }
 },
 "nbformat": 4,
 "nbformat_minor": 5
}
