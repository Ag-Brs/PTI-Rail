{
 "cells": [
  {
   "cell_type": "code",
   "execution_count": 2,
   "id": "1d55c360-6c08-4b56-a1c5-1a3f7b04f35f",
   "metadata": {},
   "outputs": [],
   "source": [
    "import cv2\n",
    "import numpy as np\n",
    "import matplotlib.pyplot as plt"
   ]
  },
  {
   "cell_type": "code",
   "execution_count": 3,
   "id": "a121599d-6172-4b70-b65a-3824601618cb",
   "metadata": {},
   "outputs": [],
   "source": [
    "image1 = cv2.imread('C:\\\\Users\\\\win\\\\Desktop\\\\Projet\\\\bcd\\\\20230323_191223_BRS_L_UP_11.369_00.png.jpg', cv2.IMREAD_COLOR)\n",
    "image2 = cv2.imread('C:\\\\Users\\\\win\\\\Desktop\\\\Projet\\\\bcd\\\\20230406_060421_BRS_L_UP_11.369_00.png.jpg', cv2.IMREAD_COLOR)"
   ]
  },
  {
   "cell_type": "code",
   "execution_count": 4,
   "id": "cf1e4f6e-0024-4c92-aa3d-44ce6baae1f4",
   "metadata": {},
   "outputs": [],
   "source": [
    "# Créer un détecteur BRIEF\n",
    "brief = cv2.xfeatures2d.BriefDescriptorExtractor_create()\n",
    "\n",
    "# Créer un détecteur de points clés (utilisant BRIEF)\n",
    "orb = cv2.ORB_create()\n",
    "\n",
    "# Trouver les points d'intérêt et descripteurs pour les deux images\n",
    "keypoints1, descriptors1 = orb.detectAndCompute(image1, None)\n",
    "keypoints2, descriptors2 = orb.detectAndCompute(image2, None)\n",
    "\n",
    "# Faites correspondre les descripteurs entre les images\n",
    "bf = cv2.BFMatcher(cv2.NORM_HAMMING, crossCheck=True)\n",
    "matches = bf.match(descriptors1, descriptors2)\n",
    "\n",
    "# Triez les correspondances en fonction de leur distance\n",
    "matches = sorted(matches, key=lambda x: x.distance)\n",
    "\n",
    "# Dessinez les 10 meilleures correspondances\n",
    "matched_images = cv2.drawMatches(image1, keypoints1, image2, keypoints2, matches[:10], None, flags=cv2.DrawMatchesFlags_NOT_DRAW_SINGLE_POINTS)\n",
    "\n",
    "# Afficher les correspondances\n",
    "cv2.imshow('Correspondances BRIEF', matched_images)\n",
    "cv2.waitKey(0)\n",
    "cv2.destroyAllWindows()"
   ]
  },
  {
   "cell_type": "code",
   "execution_count": null,
   "id": "f52fcf9d-17af-40c5-bd09-537599226eb1",
   "metadata": {},
   "outputs": [],
   "source": []
  }
 ],
 "metadata": {
  "kernelspec": {
   "display_name": "Python 3 (ipykernel)",
   "language": "python",
   "name": "python3"
  },
  "language_info": {
   "codemirror_mode": {
    "name": "ipython",
    "version": 3
   },
   "file_extension": ".py",
   "mimetype": "text/x-python",
   "name": "python",
   "nbconvert_exporter": "python",
   "pygments_lexer": "ipython3",
   "version": "3.10.9"
  }
 },
 "nbformat": 4,
 "nbformat_minor": 5
}
