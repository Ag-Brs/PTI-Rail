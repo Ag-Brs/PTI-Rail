{
 "cells": [
  {
   "cell_type": "code",
   "execution_count": 1,
   "id": "b727d9e0-8454-4117-9112-ed4966eec880",
   "metadata": {},
   "outputs": [],
   "source": [
    "##Recalage basé sur les Transformations Élastiques :\n",
    "##Recalage basé sur la déformation élastique : Permet des déformations locales pour mieux s'adapter aux variations locales dans les images."
   ]
  },
  {
   "cell_type": "code",
   "execution_count": 1,
   "id": "cd9dad96-753a-4287-9e89-75d5fe00b5ae",
   "metadata": {},
   "outputs": [
    {
     "ename": "SyntaxError",
     "evalue": "EOL while scanning string literal (1214834856.py, line 6)",
     "output_type": "error",
     "traceback": [
      "\u001b[0;36m  Cell \u001b[0;32mIn[1], line 6\u001b[0;36m\u001b[0m\n\u001b[0;31m    moving_image_path = \"20230406_060421_BRS_L_UP_11.369_00.png\u001b[0m\n\u001b[0m                                                               ^\u001b[0m\n\u001b[0;31mSyntaxError\u001b[0m\u001b[0;31m:\u001b[0m EOL while scanning string literal\n"
     ]
    }
   ],
   "source": [
    "import SimpleITK as sitk\n",
    "import subprocess\n",
    "\n",
    "# Définition des chemins des images fixes et mobiles\n",
    "fixed_image_path = \"20230323_191223_BRS_L_UP_11.369_00.png\"\n",
    "moving_image_path = \"20230406_060421_BRS_L_UP_11.369_00.png\n",
    "\n",
    "# Définition des chemins pour les fichiers de configuration d'Elastix et Transformix\n",
    "elastix_parameter_file = \"affine_bspline_params.txt\"\n",
    "transformix_parameter_file = \"transform_params.txt\"\n",
    "\n",
    "# Exécution d'Elastix pour l'enregistrement\n",
    "elastix_command = [\"elastix\", \"-f\", fixed_image_path, \"-m\", moving_image_path, \"-p\", elastix_parameter_file]\n",
    "subprocess.run(elastix_command, check=True)\n",
    "\n",
    "# Exécution de Transformix pour appliquer la transformation\n",
    "transformix_command = [\"transformix\", \"-in\", moving_image_path, \"-out\", \"output_folder\", \"-tp\", transformix_parameter_file]\n",
    "subprocess.run(transformix_command, check=True)\n",
    "\n",
    "# Lire l'image résultante de Transformix\n",
    "result_image = sitk.ReadImage(\"output_folder/result.nii\")\n",
    "\n",
    "# Sauvegarder l'image résultante\n",
    "sitk.WriteImage(result_image, \"resultImage.nii\")"
   ]
  },
  {
   "cell_type": "code",
   "execution_count": null,
   "id": "905e6dcb-e93e-4b93-86b5-efb2e770108a",
   "metadata": {},
   "outputs": [],
   "source": []
  }
 ],
 "metadata": {
  "kernelspec": {
   "display_name": "Python 3 (ipykernel)",
   "language": "python",
   "name": "python3"
  },
  "language_info": {
   "codemirror_mode": {
    "name": "ipython",
    "version": 3
   },
   "file_extension": ".py",
   "mimetype": "text/x-python",
   "name": "python",
   "nbconvert_exporter": "python",
   "pygments_lexer": "ipython3",
   "version": "3.9.12"
  }
 },
 "nbformat": 4,
 "nbformat_minor": 5
}
