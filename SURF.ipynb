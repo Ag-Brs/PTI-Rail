{
 "cells": [
  {
   "cell_type": "code",
   "execution_count": 6,
   "id": "83e764a6-7330-4dc6-a429-f57036967af1",
   "metadata": {},
   "outputs": [],
   "source": [
    "#!pip install --user opencv-contrib-python\n",
    "\n",
    "\n",
    "import cv2\n",
    "import numpy as np\n",
    "import matplotlib.pyplot as plt"
   ]
  },
  {
   "cell_type": "code",
   "execution_count": 3,
   "id": "1254a899-8a66-48fa-9be3-119bd9410643",
   "metadata": {},
   "outputs": [],
   "source": [
    "image1 = cv2.imread('C:\\\\Users\\\\win\\\\Desktop\\\\Projet\\\\bcd\\\\20230323_191223_BRS_L_UP_11.369_00.png.jpg', cv2.IMREAD_COLOR)\n",
    "image2 = cv2.imread('C:\\\\Users\\\\win\\\\Desktop\\\\Projet\\\\bcd\\\\20230406_060421_BRS_L_UP_11.369_00.png.jpg', cv2.IMREAD_COLOR)"
   ]
  },
  {
   "cell_type": "code",
   "execution_count": 5,
   "id": "3fed2d7a-296e-4162-96d3-6c13e2d43dfb",
   "metadata": {},
   "outputs": [],
   "source": [
    "\n",
    "# Créer un détecteur ORB\n",
    "orb = cv2.ORB_create()\n",
    "\n",
    "# Trouver les points d'intérêt et descripteurs pour les deux images\n",
    "keypoints1, descriptors1 = orb.detectAndCompute(image1, None)\n",
    "keypoints2, descriptors2 = orb.detectAndCompute(image2, None)\n",
    "\n",
    "# Créer un objet BFMatcher (Brute-Force Matcher)\n",
    "bf = cv2.BFMatcher()\n",
    "\n",
    "# Faites correspondre les descripteurs entre les images\n",
    "matches = bf.knnMatch(descriptors1, descriptors2, k=2)\n",
    "\n",
    "# Appliquer le filtre de correspondance Lowe pour sélectionner les bonnes correspondances\n",
    "good_matches = []\n",
    "for m, n in matches:\n",
    "    if m.distance < 0.75* n.distance:\n",
    "        good_matches.append(m)\n",
    "\n",
    "# Dessinez les correspondances\n",
    "matched_images = cv2.drawMatches(image1, keypoints1, image2, keypoints2, good_matches, None, flags=cv2.DrawMatchesFlags_NOT_DRAW_SINGLE_POINTS)\n",
    "\n",
    "# Afficher les correspondances\n",
    "cv2.imshow('Correspondances ORB', matched_images)\n",
    "cv2.waitKey(0)\n",
    "cv2.destroyAllWindows()\n",
    "\n"
   ]
  },
  {
   "cell_type": "code",
   "execution_count": null,
   "id": "71ef4942-b4b9-440f-b369-4a8a257895a2",
   "metadata": {},
   "outputs": [],
   "source": []
  },
  {
   "cell_type": "code",
   "execution_count": null,
   "id": "01341261-0356-41d7-90bf-38b817a6813b",
   "metadata": {},
   "outputs": [],
   "source": []
  }
 ],
 "metadata": {
  "kernelspec": {
   "display_name": "Python 3 (ipykernel)",
   "language": "python",
   "name": "python3"
  },
  "language_info": {
   "codemirror_mode": {
    "name": "ipython",
    "version": 3
   },
   "file_extension": ".py",
   "mimetype": "text/x-python",
   "name": "python",
   "nbconvert_exporter": "python",
   "pygments_lexer": "ipython3",
   "version": "3.10.9"
  }
 },
 "nbformat": 4,
 "nbformat_minor": 5
}
